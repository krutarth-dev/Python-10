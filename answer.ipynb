{
  "nbformat": 4,
  "nbformat_minor": 0,
  "metadata": {
    "colab": {
      "provenance": [],
      "authorship_tag": "ABX9TyOgfXfYrQk2kp1361XVJJyg",
      "include_colab_link": true
    },
    "kernelspec": {
      "name": "python3",
      "display_name": "Python 3"
    },
    "language_info": {
      "name": "python"
    }
  },
  "cells": [
    {
      "cell_type": "markdown",
      "metadata": {
        "id": "view-in-github",
        "colab_type": "text"
      },
      "source": [
        "<a href=\"https://colab.research.google.com/github/krutarth-dev/Python-10/blob/main/answer.ipynb\" target=\"_parent\"><img src=\"https://colab.research.google.com/assets/colab-badge.svg\" alt=\"Open In Colab\"/></a>"
      ]
    },
    {
      "cell_type": "code",
      "source": [
        "import nltk\n",
        "nltk.download('punkt')\n",
        "from nltk import pos_tag\n",
        "from collections import defaultdict\n",
        "nltk.download('averaged_perceptron_tagger')"
      ],
      "metadata": {
        "colab": {
          "base_uri": "https://localhost:8080/"
        },
        "id": "0meu-96pIItu",
        "outputId": "da628c93-260c-45e0-b54b-503be6f0140e"
      },
      "execution_count": 7,
      "outputs": [
        {
          "output_type": "stream",
          "name": "stderr",
          "text": [
            "[nltk_data] Downloading package punkt to /root/nltk_data...\n",
            "[nltk_data]   Package punkt is already up-to-date!\n",
            "[nltk_data] Downloading package averaged_perceptron_tagger to\n",
            "[nltk_data]     /root/nltk_data...\n",
            "[nltk_data]   Package averaged_perceptron_tagger is already up-to-\n",
            "[nltk_data]       date!\n"
          ]
        },
        {
          "output_type": "execute_result",
          "data": {
            "text/plain": [
              "True"
            ]
          },
          "metadata": {},
          "execution_count": 7
        }
      ]
    },
    {
      "cell_type": "code",
      "execution_count": 8,
      "metadata": {
        "colab": {
          "base_uri": "https://localhost:8080/"
        },
        "id": "2Dv1ZqvhH0KL",
        "outputId": "cdb1d416-de4a-4cc2-d443-be35b132e4a7"
      },
      "outputs": [
        {
          "output_type": "stream",
          "name": "stdout",
          "text": [
            "defaultdict(<class 'int'>, {'adjectives': 2, 'nouns': 3, 'verbs': 1})\n",
            "defaultdict(<class 'int'>, {'nouns': 5, 'verbs': 3, 'pronouns': 1, 'adjectives': 2})\n",
            "defaultdict(<class 'int'>, {'pronouns': 1, 'verbs': 1, 'adjectives': 1, 'nouns': 1})\n",
            "defaultdict(<class 'int'>, {'nouns': 10, 'verbs': 6, 'adjectives': 3})\n"
          ]
        }
      ],
      "source": [
        "def count_pos(text):\n",
        "    # Tokenize the text into individual words\n",
        "    words = nltk.word_tokenize(text)\n",
        "    \n",
        "    # Perform part-of-speech tagging on the words\n",
        "    tagged_words = pos_tag(words)\n",
        "    \n",
        "    # Create a defaultdict to store the counts\n",
        "    counts = defaultdict(int)\n",
        "    \n",
        "    # Count the number of verbs, nouns, pronouns, and adjectives\n",
        "    for word, tag in tagged_words:\n",
        "        if tag.startswith('V'):  # Verb\n",
        "            counts['verbs'] += 1\n",
        "        elif tag.startswith('N'):  # Noun\n",
        "            counts['nouns'] += 1\n",
        "        elif tag.startswith('PRP'):  # Pronoun\n",
        "            counts['pronouns'] += 1\n",
        "        elif tag.startswith('JJ'):  # Adjective\n",
        "            counts['adjectives'] += 1\n",
        "    \n",
        "    return counts\n",
        "\n",
        "# Test case 1: Counting in a phrase\n",
        "phrase = \"The quick brown fox jumps over the lazy dog\"\n",
        "counts = count_pos(phrase)\n",
        "print(counts)\n",
        "\n",
        "# Test case 2: Counting in a paragraph\n",
        "paragraph = \"The cat sat on the mat. It was a sunny day. The big tree provided shade.\"\n",
        "counts = count_pos(paragraph)\n",
        "print(counts)\n",
        "\n",
        "# Additional test case 1: Counting in a complex sentence\n",
        "sentence = \"She carefully walked across the narrow bridge.\"\n",
        "counts = count_pos(sentence)\n",
        "print(counts)\n",
        "\n",
        "# Additional test case 2: Counting in a longer paragraph\n",
        "long_paragraph = \"The sun was shining brightly in the clear blue sky. Birds chirped and flew around the lush green trees. People strolled along the peaceful riverbank, enjoying the tranquility of the surroundings.\"\n",
        "counts = count_pos(long_paragraph)\n",
        "print(counts)\n"
      ]
    }
  ]
}